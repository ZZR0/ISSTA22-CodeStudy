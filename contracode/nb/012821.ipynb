{
 "cells": [
  {
   "cell_type": "code",
   "execution_count": 22,
   "metadata": {},
   "outputs": [
    {
     "name": "stdout",
     "output_type": "stream",
     "text": [
      "/home/ajay/coderep/representjs/representjs\n"
     ]
    }
   ],
   "source": [
    "%cd /home/ajay/coderep/representjs/representjs"
   ]
  },
  {
   "cell_type": "code",
   "execution_count": 51,
   "metadata": {},
   "outputs": [],
   "source": [
    "import csv\n",
    "import glob\n",
    "import os\n",
    "\n",
    "import numpy as np\n",
    "import torch\n",
    "import tqdm\n",
    "import sentencepiece as spm\n",
    "\n",
    "from decode import ids_to_strs"
   ]
  },
  {
   "cell_type": "code",
   "execution_count": 47,
   "metadata": {},
   "outputs": [
    {
     "name": "stdout",
     "output_type": "stream",
     "text": [
      "contracode_bilstm\tmlm_transformer_noaug_maxpool\n",
      "contracode_transformer\tsupervised_bilstm\n",
      "hybrid_transformer\tsupervised_embeddings.tar.gz\n",
      "mlm_bilstm\t\tsupervised_transformer\n",
      "mlm_transformer\n"
     ]
    }
   ],
   "source": [
    "!ls '/data/ajay/coderep/representjs/data/embeddings'"
   ]
  },
  {
   "cell_type": "code",
   "execution_count": 55,
   "metadata": {},
   "outputs": [],
   "source": [
    "emb_dir = '/data/ajay/coderep/representjs/data/embeddings'\n",
    "# emb_path = os.path.join(emb_dir, 'mlm_transformer/tokens_and_embeddings_000100.pth')\n",
    "# csvfilepath = f'/data/ajay/coderep/representjs/data/embeddings/mlm_transformer/tokens_and_embeddings_{len(emb):06d}.csv'\n",
    "\n",
    "# emb_path = os.path.join(emb_dir, 'contracode_transformer/tokens_and_embeddings_000100.pth')\n",
    "# csvfilepath = f'/data/ajay/coderep/representjs/data/embeddings/contracode_transformer/tokens_and_embeddings_{len(emb):06d}.csv'\n",
    "\n",
    "# emb_path = os.path.join(emb_dir, 'mlm_transformer_noaug_maxpool/tokens_and_embeddings_000100.pth')\n",
    "# csvfilepath = f'/data/ajay/coderep/representjs/data/embeddings/mlm_transformer_noaug_maxpool/tokens_and_embeddings_{len(emb):06d}.csv'\n",
    "\n",
    "emb_path = os.path.join(emb_dir, 'contracode_transformer_maxpool/tokens_and_embeddings_000100.pth')\n",
    "csvfilepath = f'/data/ajay/coderep/representjs/data/embeddings/contracode_transformer_maxpool/tokens_and_embeddings_{len(emb):06d}.csv'"
   ]
  },
  {
   "cell_type": "code",
   "execution_count": 56,
   "metadata": {},
   "outputs": [],
   "source": [
    "emb = torch.load(emb_path)"
   ]
  },
  {
   "cell_type": "code",
   "execution_count": 57,
   "metadata": {},
   "outputs": [
    {
     "data": {
      "text/plain": [
       "True"
      ]
     },
     "execution_count": 57,
     "metadata": {},
     "output_type": "execute_result"
    }
   ],
   "source": [
    "spm_filepath = '/home/ajay/coderep/representjs/data/codesearchnet_javascript/csnjs_8k_9995p_unigram_url.model'\n",
    "sp = spm.SentencePieceProcessor()\n",
    "sp.Load(spm_filepath)"
   ]
  },
  {
   "cell_type": "markdown",
   "metadata": {},
   "source": [
    "# Convert to CSV for use with UMAP JavaScript notebook\n",
    "https://observablehq.com/d/4406cf66f9b62ae3"
   ]
  },
  {
   "cell_type": "code",
   "execution_count": 58,
   "metadata": {},
   "outputs": [
    {
     "name": "stderr",
     "output_type": "stream",
     "text": [
      "100%|██████████| 100/100 [00:04<00:00, 22.44it/s]\n"
     ]
    }
   ],
   "source": [
    "csvfile = open(csvfilepath, 'w')\n",
    "fieldnames = ['group', 'program', 'index'] + [f'f{feat:03d}' for feat in range(512)]\n",
    "\n",
    "writer = csv.DictWriter(csvfile, fieldnames=fieldnames)\n",
    "writer.writeheader()\n",
    "\n",
    "for i in tqdm.trange(len(emb)):\n",
    "    group_toks, group_embs = emb[i]\n",
    "    group_programs = ids_to_strs(group_toks, sp)\n",
    "    \n",
    "    assert len(group_toks) == 21\n",
    "    assert len(group_embs) == 21\n",
    "    for j in range(21):\n",
    "        row = {'group': f'Program {i+1}', 'program': group_programs[j], 'index': str(i)}\n",
    "        assert len(group_embs[j]) == 512\n",
    "        for feat in range(512):\n",
    "            row[f'f{feat:03d}'] = group_embs[j][feat]\n",
    "        writer.writerow(row)"
   ]
  },
  {
   "cell_type": "markdown",
   "metadata": {},
   "source": [
    "# Python data viz"
   ]
  },
  {
   "cell_type": "code",
   "execution_count": 17,
   "metadata": {},
   "outputs": [
    {
     "data": {
      "text/plain": [
       "(210, 512)"
      ]
     },
     "execution_count": 17,
     "metadata": {},
     "output_type": "execute_result"
    }
   ],
   "source": [
    "all_emb = [equiv_embs for toks, equiv_embs in emb]\n",
    "all_emb = np.concatenate(all_emb, axis=0)\n",
    "all_emb.shape"
   ]
  },
  {
   "cell_type": "code",
   "execution_count": 19,
   "metadata": {},
   "outputs": [
    {
     "data": {
      "text/plain": [
       "(210, 512)"
      ]
     },
     "execution_count": 19,
     "metadata": {},
     "output_type": "execute_result"
    }
   ],
   "source": [
    "all_emb.shape"
   ]
  }
 ],
 "metadata": {
  "kernelspec": {
   "display_name": "Python 3",
   "language": "python",
   "name": "python3"
  },
  "language_info": {
   "codemirror_mode": {
    "name": "ipython",
    "version": 3
   },
   "file_extension": ".py",
   "mimetype": "text/x-python",
   "name": "python",
   "nbconvert_exporter": "python",
   "pygments_lexer": "ipython3",
   "version": "3.7.6"
  }
 },
 "nbformat": 4,
 "nbformat_minor": 4
}
