{
 "cells": [
  {
   "cell_type": "code",
   "execution_count": 4,
   "metadata": {},
   "outputs": [],
   "source": [
    "import argparse\n",
    "from gensim.models import Word2Vec\n",
    "import json\n",
    "import os\n",
    "\n",
    "\n",
    "def train(data_paths, save_model_dir, model_name='li_et_al_wv', min_occ=1, embedding_size=64, epochs=5):\n",
    "    files = data_paths\n",
    "    sentences = []\n",
    "    for f in files:\n",
    "        data = json.load(open(f))\n",
    "        for e in data:\n",
    "            code = e['tokenized']\n",
    "            sentences.append([token.strip() for token in code.split()])\n",
    "    print(len(sentences))\n",
    "    wvmodel = Word2Vec(sentences, min_count=min_occ, workers=8, size=embedding_size)\n",
    "    print('Embedding Size : ', wvmodel.vector_size)\n",
    "    for i in range(epochs):\n",
    "        wvmodel.train(sentences, total_examples=len(sentences), epochs=1)\n",
    "    if not os.path.exists(save_model_dir):\n",
    "        os.mkdir(save_model_dir)\n",
    "    save_file_path = os.path.join(save_model_dir, model_name)\n",
    "    wvmodel.save(save_file_path)\n",
    "\n"
   ]
  },
  {
   "cell_type": "code",
   "execution_count": 5,
   "metadata": {},
   "outputs": [
    {
     "name": "stdout",
     "output_type": "stream",
     "text": [
      "407635\n",
      "Embedding Size :  64\n"
     ]
    }
   ],
   "source": [
    "files = [\n",
    "    '../data/SySeVR/Arithmetic_expression-processed.json', \n",
    "    '../data/SySeVR/API_function_call-processed.json',\n",
    "    '../data/SySeVR/Array_usage-processed.json',\n",
    "    '../data/SySeVR/Pointer_usage-processed.json'\n",
    "]\n",
    "\n",
    "train(files, '../data/Word2Vec')"
   ]
  },
  {
   "cell_type": "code",
   "execution_count": null,
   "metadata": {},
   "outputs": [],
   "source": []
  }
 ],
 "metadata": {
  "kernelspec": {
   "display_name": "Python 3",
   "language": "python",
   "name": "python3"
  },
  "language_info": {
   "codemirror_mode": {
    "name": "ipython",
    "version": 3
   },
   "file_extension": ".py",
   "mimetype": "text/x-python",
   "name": "python",
   "nbconvert_exporter": "python",
   "pygments_lexer": "ipython3",
   "version": "3.6.9"
  }
 },
 "nbformat": 4,
 "nbformat_minor": 2
}
